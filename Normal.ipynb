{
 "cells": [
  {
   "cell_type": "code",
   "execution_count": 2,
   "metadata": {
    "collapsed": true
   },
   "outputs": [],
   "source": [
    "%matplotlib inline\n",
    "\n",
    "import matplotlib.pyplot as plt\n",
    "import numpy as np\n",
    "import matplotlib.mlab as mlab\n",
    "import math\n",
    "import matplotlib\n",
    "from pylab import *\n",
    "from numpy import genfromtxt"
   ]
  },
  {
   "cell_type": "code",
<<<<<<< Updated upstream
   "execution_count": 20,
=======
   "execution_count": 4,
>>>>>>> Stashed changes
   "metadata": {
    "collapsed": false
   },
   "outputs": [
    {
     "data": {
      "image/png": "iVBORw0KGgoAAAANSUhEUgAAAZUAAAEPCAYAAACKplkeAAAABHNCSVQICAgIfAhkiAAAAAlwSFlz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\n/H8p+83CLL2BuwAAAABJRU5ErkJggg==\n",
      "text/plain": [
<<<<<<< Updated upstream
       "<matplotlib.figure.Figure at 0x228c2683748>"
=======
       "<matplotlib.figure.Figure at 0x106ac17b8>"
>>>>>>> Stashed changes
      ]
     },
     "metadata": {},
     "output_type": "display_data"
    }
   ],
   "source": [
    "my_data = genfromtxt('fluence.csv', delimiter=',')\n",
    "set = [0]\n",
    "\n",
    "\n",
    "Xlim= X = my_data[:,0]\n",
    "Ylim= Y = my_data[:,1]\n",
    "#error = my_data[:,2]\n",
    "X = np.hsplit(X,1)\n",
    "Y = np.hsplit(Y,1)\n",
    "#error = np.hsplit(error,3)\n",
    "\n",
    "\n",
    "#for i in set:\n",
    "#    plt.plot(X[i],Y[i],'r')\n",
    "#    errorbar(X[i], Y[i], yerr=error[i], fmt='-o')\n",
    "\n",
    "\n",
    "#annotation\n",
    "plt.plot(X[0],Y[0],'r')\n",
    "plt.plot([25,25],[25,1600],color ='b',  linewidth=1.5, linestyle=\"--\")\n",
    "plt.scatter([25,],[1600,], 50, color ='b')\n",
    "\n",
    "plt.annotate(r'Speed = 25mm/s, fluence = 1600J/cm$^2$',\n",
    "             xy=(25, 1600),  xycoords='data',\n",
    "             xytext=(+10, +30), textcoords='offset points', fontsize=12,\n",
    "             arrowprops=dict(arrowstyle=\"->\", connectionstyle=\"arc3,rad=.2\"))\n",
    "\n",
    "plt.plot([125,125],[0,320],color ='b',  linewidth=1.5, linestyle=\"--\")\n",
    "plt.scatter([125,],[320,], 50, color ='b')\n",
    "\n",
    "plt.annotate(r'Speed = 125 mm/s, fluence = 320/cm$^2$',\n",
    "             xy=(125, 320),  xycoords='data',\n",
    "             xytext=(+10, +30), textcoords='offset points', fontsize=12,\n",
    "             arrowprops=dict(arrowstyle=\"->\", connectionstyle=\"arc3,rad=.2\"))\n",
    "\n",
    "        \n",
    "\n",
    "# Set xy axis ticks\n",
    "ylim(Ylim.min()-10,Ylim.max()*1.1)\n",
    "xlim(Xlim.min()-20,Xlim.max()*1.1)\n",
    "#yticks(np.linspace(0,ylim.max(),0,endpoint=True))\n",
    "\n",
    "\n",
    "#title\n",
    "#plt.title('Fluence variation')\n",
    "plt.xlabel('Scan speed (mm/s)',fontsize=16)\n",
    "plt.ylabel('Fluence (J/cm$^2$)',fontsize=16)\n",
    "\n",
    "plt.show()\n",
    "\n",
    "# Save figure using 72 dots per inch\n",
<<<<<<< HEAD
    "savefig(\"gaussian.png\",dpi=300)\n",
=======
    "#savefig(\"gaussian.png\",dpi=300)\n",
<<<<<<< Updated upstream
>>>>>>> origin/master
    "\n"
=======
    "\n",
    "plt.show()\n"
>>>>>>> Stashed changes
   ]
  },
  {
   "cell_type": "code",
   "execution_count": null,
   "metadata": {
    "collapsed": false
   },
   "outputs": [],
   "source": [
    "my_data = genfromtxt('1.csv', delimiter=',')\n",
    "set = [0,1,2]\n",
    "\n",
    "\n",
    "Xlim= X = my_data[:,0]\n",
    "Ylim= Y = my_data[:,1]\n",
    "error = my_data[:,2]\n",
    "X = np.hsplit(X,3)\n",
    "Y = np.hsplit(Y,3)\n",
    "error = np.hsplit(error,3)\n",
    "\n",
    "\n",
    "for i in set:\n",
    "    plt.plot(X[i],Y[i],'r')\n",
    "    errorbar(X[i], Y[i], yerr=error[i], fmt='-o')\n",
    "\n",
    "\n",
    "# Set y ticks\n",
    "ylim(Ylim.min()-0.5,Ylim.max()+0.5)\n",
    "xlim(Xlim.min()-0.5,Xlim.max()+0.5)\n",
    "\n",
    "yticks(np.linspace(0,Y1.max(),0,endpoint=True))\n",
    "\n",
    "# Save figure using 72 dots per inch\n",
    "#savefig(\"gaussian.png\",dpi=300)\n",
    "\n",
    "plt.show()\n"
   ]
  },
  {
   "cell_type": "markdown",
   "metadata": {},
   "source": [
    "http://matplotlib.org/examples/statistics/errorbar_demo_features.html\n",
    "    http://matplotlib.org/examples/statistics/errorbar_demo.html\n",
    "    http://stackoverflow.com/questions/11248812/matplotlib-basic-plotting-from-text-file\n",
    "    https://docs.scipy.org/doc/numpy-dev/user/quickstart.html\n",
    "    "
   ]
  },
  {
   "cell_type": "code",
   "execution_count": null,
   "metadata": {
    "collapsed": false,
    "scrolled": true
   },
   "outputs": [],
   "source": [
    "\n",
    "# Create a new figure of size 8x6 points, using 80 dots per inch\n",
    "figure(figsize=(8,6), dpi=80)\n",
    "\n",
    "# Create a new subplot from a grid of 1x1\n",
    "subplot(1,1,1)\n",
    "\n",
    "\n",
    "\n",
    "mean = 0\n",
    "variance = 1\n",
    "sigma = math.sqrt(variance)\n",
    "x = np.linspace(-4,10,100)\n",
    "y1 = mlab.normpdf(x,mean,sigma)\n",
    "y2 = mlab.normpdf(x,mean+0.5,sigma)\n",
    "y3 = mlab.normpdf(x,mean+1,sigma)\n",
    "y4 = mlab.normpdf(x,mean+1.5,sigma)\n",
    "y5 = mlab.normpdf(x,mean+2,sigma)\n",
    "y6 = mlab.normpdf(x,mean+2.5,sigma)\n",
    "y7 = mlab.normpdf(x,mean+3,sigma)\n",
    "y8 = mlab.normpdf(x,mean+3.5,sigma)\n",
    "y9 = mlab.normpdf(x,mean+4,sigma)\n",
    "y10 = mlab.normpdf(x,mean+4.5,sigma)\n",
    "y11 = mlab.normpdf(x,mean+5,sigma)\n",
    "y12 = mlab.normpdf(x,mean+5.5,sigma)\n",
    "y13 = mlab.normpdf(x,mean+6,sigma)\n",
    "y14 = mlab.normpdf(x,mean+6.5,sigma)\n",
    "y15 = mlab.normpdf(x,mean+7,sigma)\n",
    "\n",
    "\n",
    "Y3 = y1+y2+y3\n",
    "Y5 = y1+y2+y3+y4+y5\n",
    "Y7 = Y5+y6+y7\n",
    "Y10 = Y7+y8+y9+y10\n",
    "Y15 = Y10+ y11+y12+y13+y14+y15\n",
    "\n",
    "plt.plot(x,y1,'r',x,Y3,'g',x,Y5,'c',x,Y15,'black',x,Y10,'')\n",
    "\n",
    "\n",
    "# 1\n",
    "annotate(r'n=1',\n",
    "         xy=(0, y1.max()), xycoords='data',\n",
    "         xytext=(+15, +15), textcoords='offset points', fontsize=16,\n",
    "         arrowprops=dict(arrowstyle=\"->\"))\n",
    "\n",
    "\n",
    "# 3\n",
    "annotate(r'n=3',\n",
    "         xy=(0.5, Y3.max()), xycoords='data',\n",
    "         xytext=(+15, +15), textcoords='offset points', fontsize=16,\n",
    "         arrowprops=dict(arrowstyle=\"->\"))\n",
    "\n",
    "\n",
    "# 5\n",
    "annotate(r'n=5',\n",
    "         xy=(1, Y5.max()), xycoords='data',\n",
    "         xytext=(+15, +20), textcoords='offset points', fontsize=16,\n",
    "         arrowprops=dict(arrowstyle=\"->\"))\n",
    "\n",
    "# 10\n",
    "annotate(r'n=10',\n",
    "         xy=(2.25, Y10.max()), xycoords='data',\n",
    "         xytext=(+10, +20), textcoords='offset points', fontsize=16,\n",
    "         arrowprops=dict(arrowstyle=\"->\"))\n",
    "\n",
    "# 15\n",
    "annotate(r'n=15',\n",
    "         xy=(4, Y15.max()), xycoords='data',\n",
    "         xytext=(+25, +20), textcoords='offset points', fontsize=16,\n",
    "         arrowprops=dict(arrowstyle=\"->\"))\n",
    "\n",
    "\n",
    "\n",
    "\n",
    "# Set y ticks\n",
    "ylim(0,Y15.max()+0.5)\n",
    "\n",
    "yticks(np.linspace(0,Y15.max(),0,endpoint=True))\n",
    "\n",
    "\n",
    "\n",
    "# Save figure using 72 dots per inch\n",
    "savefig(\"gaussian.png\",dpi=300)\n",
    "\n",
    "plt.show()\n",
    "\n",
    "\n",
    "\n"
   ]
  },
  {
   "cell_type": "code",
   "execution_count": null,
   "metadata": {
    "collapsed": false
   },
   "outputs": [],
   "source": [
    "\n",
    "# Create a new figure of size 8x6 points, using 80 dots per inch\n",
    "figure(figsize=(8,6), dpi=80)\n",
    "\n",
    "# Create a new subplot from a grid of 1x1\n",
    "subplot(1,1,1)\n",
    "\n",
    "\n",
    "\n",
    "mean = 0\n",
    "variance = 1\n",
    "sigma = math.sqrt(variance)\n",
    "x = np.linspace(-4,20,100)\n",
    "y1 = mlab.normpdf(x,mean,sigma)\n",
    "y2 = mlab.normpdf(x,mean+4,sigma)\n",
    "y3 = mlab.normpdf(x,mean+8,sigma)\n",
    "y4 = mlab.normpdf(x,mean+12,sigma)\n",
    "y5 = mlab.normpdf(x,mean+16,sigma)\n",
    "\n",
    "\n",
    "\n",
    "Y3 = y1+y2+y3\n",
    "Y5 = y1+y2+y3+y4+y5\n",
    "Y7 = Y5+y6+y7\n",
    "Y10 = Y7+y8+y9+y10\n",
    "Y15 = Y10+ y11+y12+y13+y14+y15\n",
    "\n",
    "plt.plot(x,Y5,'r',x,Y3,'g',x,y1,'b')\n",
    "\n",
    "\n",
    "# 1\n",
    "annotate(r'n=1',\n",
    "         xy=(0, y1.max()), xycoords='data',\n",
    "         xytext=(+15, +15), textcoords='offset points', fontsize=16,\n",
    "         arrowprops=dict(arrowstyle=\"->\"))\n",
    "\n",
    "\n",
    "# 3\n",
    "annotate(r'n=3',\n",
    "         xy=(8, Y3.max()), xycoords='data',\n",
    "         xytext=(+15, +15), textcoords='offset points', fontsize=16,\n",
    "         arrowprops=dict(arrowstyle=\"->\"))\n",
    "\n",
    "\n",
    "# 5\n",
    "annotate(r'n=5',\n",
    "         xy=(16, Y5.max()), xycoords='data',\n",
    "         xytext=(+15, +20), textcoords='offset points', fontsize=16,\n",
    "         arrowprops=dict(arrowstyle=\"->\"))\n",
    "\n",
    "\n",
    "\n",
    "# Set y ticks\n",
    "ylim(0,Y5.max()+0.05)\n",
    "\n",
    "yticks(np.linspace(0,Y5.max(),0,endpoint=True))\n",
    "\n",
    "# Save figure using 72 dots per inch\n",
    "savefig(\"gaussian_2.png\",dpi=300)\n",
    "\n",
    "\n",
    "plt.show()\n",
    "\n",
    "\n",
    "\n"
   ]
  },
  {
   "cell_type": "code",
   "execution_count": null,
   "metadata": {
    "collapsed": true
   },
   "outputs": [],
   "source": []
  }
 ],
 "metadata": {
  "kernelspec": {
   "display_name": "Python 3",
   "language": "python",
   "name": "python3"
  },
  "language_info": {
   "codemirror_mode": {
    "name": "ipython",
    "version": 3
   },
   "file_extension": ".py",
   "mimetype": "text/x-python",
   "name": "python",
   "nbconvert_exporter": "python",
   "pygments_lexer": "ipython3",
   "version": "3.5.1"
  }
 },
 "nbformat": 4,
 "nbformat_minor": 0
}
